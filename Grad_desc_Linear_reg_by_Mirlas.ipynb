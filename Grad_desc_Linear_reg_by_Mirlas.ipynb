{
 "metadata": {
  "name": "",
  "signature": "sha256:a0663d5567511205fa8df9b124908fab0d9e7941af87ca595731e5524dab4af7"
 },
 "nbformat": 3,
 "nbformat_minor": 0,
 "worksheets": [
  {
   "cells": [
    {
     "cell_type": "code",
     "collapsed": false,
     "input": [
      "from __future__ import division, print_function\n",
      "%matplotlib inline\n",
      "from sklearn import datasets,linear_model\n",
      "from scipy import optimize\n",
      "import numpy as np\n",
      "import matplotlib.pyplot as plt\n",
      "from gradient_descent import GradientDescent\n",
      "from linear_regression import LinearRegression"
     ],
     "language": "python",
     "metadata": {},
     "outputs": [],
     "prompt_number": 1
    },
    {
     "cell_type": "heading",
     "level": 1,
     "metadata": {},
     "source": [
      "Demonstrating GradientDescent. Comparison GradientDescent with sc.optimize.fmin"
     ]
    },
    {
     "cell_type": "code",
     "collapsed": false,
     "input": [
      "def function(x,y):\n",
      "    return (1 - x)**2 + 100*(y - x)**2     #f_min = 0 in [1,1]"
     ],
     "language": "python",
     "metadata": {},
     "outputs": [],
     "prompt_number": 2
    },
    {
     "cell_type": "code",
     "collapsed": false,
     "input": [
      "def function_grad(x,y):\n",
      "    return np.array([-2*(1-x)-200*(y-x),200*(y-x)])"
     ],
     "language": "python",
     "metadata": {},
     "outputs": [],
     "prompt_number": 3
    },
    {
     "cell_type": "heading",
     "level": 6,
     "metadata": {},
     "source": [
      "Demonstraiting GradientDescent"
     ]
    },
    {
     "cell_type": "code",
     "collapsed": false,
     "input": [
      "grad_desc_model = GradientDescent(function,function_grad,0.00498)\n",
      "x,f_hist = grad_desc_model.minimize(4,5)"
     ],
     "language": "python",
     "metadata": {},
     "outputs": [],
     "prompt_number": 4
    },
    {
     "cell_type": "code",
     "collapsed": false,
     "input": [
      "print(\"function_min(x,y) = function({1},{2}) = {0}\".format(f_hist[-1],*x))"
     ],
     "language": "python",
     "metadata": {},
     "outputs": [
      {
       "output_type": "stream",
       "stream": "stdout",
       "text": [
        "function_min(x,y) = function(0.99999503113,1.0000049827) = 9.928072074e-09\n"
       ]
      }
     ],
     "prompt_number": 5
    },
    {
     "cell_type": "code",
     "collapsed": false,
     "input": [
      "fig = plt.figure()\n",
      "ax = fig.add_subplot(111)\n",
      "ax.plot(f_hist,color='r',linewidth=2)"
     ],
     "language": "python",
     "metadata": {},
     "outputs": [
      {
       "metadata": {},
       "output_type": "pyout",
       "prompt_number": 6,
       "text": [
        "[<matplotlib.lines.Line2D at 0x7fad86832690>]"
       ]
      },
      {
       "metadata": {},
       "output_type": "display_data",
       "png": "[encoded data removed]",
       "text": [
        "<matplotlib.figure.Figure at 0x7fad888cf110>"
       ]
      }
     ],
     "prompt_number": 6
    },
    {
     "cell_type": "heading",
     "level": 6,
     "metadata": {},
     "source": [
      " Comparison with sc.optimize.fmin"
     ]
    },
    {
     "cell_type": "code",
     "collapsed": false,
     "input": [
      "x = optimize.fmin(lambda x:function(x[0],x[1]),[4,5])"
     ],
     "language": "python",
     "metadata": {},
     "outputs": [
      {
       "output_type": "stream",
       "stream": "stdout",
       "text": [
        "Optimization terminated successfully.\n",
        "         Current function value: 0.000000\n",
        "         Iterations: 48\n",
        "         Function evaluations: 94\n"
       ]
      }
     ],
     "prompt_number": 7
    },
    {
     "cell_type": "heading",
     "level": 1,
     "metadata": {},
     "source": [
      "Demonstrating LinearRegression. Comparison LinearRegression with sklearn.linear_model.LinearRegression"
     ]
    },
    {
     "cell_type": "heading",
     "level": 6,
     "metadata": {},
     "source": [
      "Loading dataset and preparing test and training sets"
     ]
    },
    {
     "cell_type": "code",
     "collapsed": false,
     "input": [
      "# Load the diabetes dataset\n",
      "diabetes = datasets.load_diabetes()\n",
      "\n",
      "\n",
      "# Use only one feature\n",
      "diabetes_X = diabetes.data[:, np.newaxis, 2]\n",
      "\n",
      "# Split the data into training/testing sets\n",
      "diabetes_X_train = diabetes_X[:-20]\n",
      "diabetes_X_test = diabetes_X[-20:]\n",
      "\n",
      "# Split the targets into training/testing sets\n",
      "diabetes_y_train = diabetes.target[:-20]\n",
      "diabetes_y_test = diabetes.target[-20:]"
     ],
     "language": "python",
     "metadata": {},
     "outputs": [],
     "prompt_number": 8
    },
    {
     "cell_type": "heading",
     "level": 6,
     "metadata": {},
     "source": [
      "Demonstrating custom LinearRegression"
     ]
    },
    {
     "cell_type": "code",
     "collapsed": false,
     "input": [
      "# Create linear regression object with custom model\n",
      "regr = LinearRegression(0.6)\n",
      "\n",
      "# Train the model using the training sets\n",
      "J,theta=regr.gradient_descent(diabetes_X_train, diabetes_y_train)\n",
      "\n",
      "# The coefficients\n",
      "print('Gradient descent:\\n Coefficients: \\n', regr.theta)\n",
      "# The mean squared error\n",
      "predictions = regr.predict(diabetes_X_test)\n",
      "errors = predictions - diabetes_y_test.reshape(diabetes_X_test.shape[0],1)\n",
      "print(\"Mean squared error: {:.2f}\".format(np.mean((errors) ** 2)))\n",
      "\n",
      "#Coefficients using normal equation\n",
      "theta_ne=regr.normal_equation(diabetes_X_train, diabetes_y_train)\n",
      "# The coefficients\n",
      "print('Normal equation:\\n Coefficients: \\n', regr.theta)\n",
      "# The mean squared error\n",
      "predictions_ne = regr.predict(diabetes_X_test)\n",
      "errors_ne = predictions_ne - diabetes_y_test.reshape(diabetes_X_test.shape[0],1)\n",
      "print(\"Mean squared error: {:.2f}\".format(np.mean((errors) ** 2)))"
     ],
     "language": "python",
     "metadata": {},
     "outputs": [
      {
       "output_type": "stream",
       "stream": "stdout",
       "text": [
        "Gradient descent:\n",
        " Coefficients: \n",
        " [[ 152.91971345]\n",
        " [ 936.441096  ]]\n",
        "Mean squared error: 2550.12\n",
        "Normal equation:\n",
        " Coefficients: \n",
        " [[ 152.91886183]\n",
        " [ 938.23786125]]\n",
        "Mean squared error: 2550.12\n"
       ]
      }
     ],
     "prompt_number": 9
    },
    {
     "cell_type": "code",
     "collapsed": false,
     "input": [
      "# Plot outputs\n",
      "fig2, axes = plt.subplots(nrows=1, ncols=2)\n",
      "axes[0].scatter(diabetes_X_test, diabetes_y_test,  color='black')\n",
      "axes[0].plot(diabetes_X_test, predictions, color='blue',linewidth=3)\n",
      "axes[0].set_title(\"gradient descent\")\n",
      "axes[1].scatter(diabetes_X_test, diabetes_y_test,  color='black')\n",
      "axes[1].plot(diabetes_X_test,predictions_ne,color='r',linewidth=3)\n",
      "axes[1].set_title(\"normal equation\")\n",
      "\n"
     ],
     "language": "python",
     "metadata": {},
     "outputs": [
      {
       "metadata": {},
       "output_type": "pyout",
       "prompt_number": 10,
       "text": [
        "<matplotlib.text.Text at 0x7fad8669de90>"
       ]
      },
      {
       "metadata": {},
       "output_type": "display_data",
       "png": "[encoded data removed]",
       "text": [
        "<matplotlib.figure.Figure at 0x7fad86779050>"
       ]
      }
     ],
     "prompt_number": 10
    },
    {
     "cell_type": "heading",
     "level": 6,
     "metadata": {},
     "source": [
      "Comparison with sklearn.linear_model.LinearRegression"
     ]
    },
    {
     "cell_type": "code",
     "collapsed": false,
     "input": [
      "# Create linear regression object\n",
      "regr = linear_model.LinearRegression()\n",
      "\n",
      "# Train the model using the training sets\n",
      "regr.fit(diabetes_X_train, diabetes_y_train)\n",
      "\n",
      "# The coefficients\n",
      "print('Coefficients: \\n', regr.coef_)\n",
      "# The mean squared error\n",
      "print(\"Mean squared error: %.2f\"\n",
      "      % np.mean((regr.predict(diabetes_X_test) - diabetes_y_test) ** 2))\n",
      "# Explained variance score: 1 is perfect prediction\n",
      "print('Variance score: %.2f' % regr.score(diabetes_X_test, diabetes_y_test))\n",
      "\n",
      "# Plot outputs\n",
      "plt.scatter(diabetes_X_test, diabetes_y_test,  color='black')\n",
      "plt.plot(diabetes_X_test, regr.predict(diabetes_X_test), color='blue',\n",
      "         linewidth=3)\n",
      "\n",
      "plt.xticks(())\n",
      "plt.yticks(())\n",
      "\n",
      "plt.show()"
     ],
     "language": "python",
     "metadata": {},
     "outputs": [
      {
       "output_type": "stream",
       "stream": "stdout",
       "text": [
        "Coefficients: \n",
        " [ 938.23786125]\n",
        "Mean squared error: 2548.07\n",
        "Variance score: 0.47\n"
       ]
      },
      {
       "metadata": {},
       "output_type": "display_data",
       "png": "[encoded data removed]",
       "text": [
        "<matplotlib.figure.Figure at 0x7fad867ad950>"
       ]
      }
     ],
     "prompt_number": 11
    },
    {
     "cell_type": "code",
     "collapsed": false,
     "input": [],
     "language": "python",
     "metadata": {},
     "outputs": []
    }
   ],
   "metadata": {}
  }
 ]
}